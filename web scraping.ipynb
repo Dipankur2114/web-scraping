{
 "cells": [
  {
   "cell_type": "code",
   "execution_count": 1,
   "id": "efe66723",
   "metadata": {},
   "outputs": [],
   "source": [
    "import pandas as pd\n"
   ]
  },
  {
   "cell_type": "code",
   "execution_count": 2,
   "id": "6b1595c3",
   "metadata": {},
   "outputs": [],
   "source": [
    "import requests\n",
    "from bs4 import BeautifulSoup"
   ]
  },
  {
   "cell_type": "code",
   "execution_count": 3,
   "id": "bdca59dc",
   "metadata": {},
   "outputs": [
    {
     "name": "stdout",
     "output_type": "stream",
     "text": [
      "                          Headers\n",
      "0                       Main Page\n",
      "1            Welcome to Wikipedia\n",
      "2   From today's featured article\n",
      "3                Did you know ...\n",
      "4                     In the news\n",
      "5                     On this day\n",
      "6      From today's featured list\n",
      "7        Today's featured picture\n",
      "8        Other areas of Wikipedia\n",
      "9     Wikipedia's sister projects\n",
      "10            Wikipedia languages\n"
     ]
    }
   ],
   "source": [
    "def get_wikipedia_headers(url):\n",
    "    response = requests.get(url)\n",
    "    soup = BeautifulSoup(response.text, 'html.parser')\n",
    "    \n",
    "    headers = []\n",
    "    for header in soup.find_all(['h1', 'h2', 'h3', 'h4', 'h5', 'h6']):\n",
    "        headers.append(header.text.strip())\n",
    "    \n",
    "    return headers\n",
    "\n",
    "\n",
    "wikipedia_url = 'https://en.wikipedia.org/wiki/Main_Page'\n",
    "\n",
    "\n",
    "headers_list = get_wikipedia_headers(wikipedia_url)\n",
    "\n",
    "\n",
    "df = pd.DataFrame({'Headers': headers_list})\n",
    "\n",
    "print(df)\n",
    "    "
   ]
  },
  {
   "cell_type": "code",
   "execution_count": 5,
   "id": "d63d1d00",
   "metadata": {},
   "outputs": [
    {
     "name": "stdout",
     "output_type": "stream",
     "text": [
      "Empty DataFrame\n",
      "Columns: []\n",
      "Index: []\n"
     ]
    }
   ],
   "source": [
    "def get_presidents(url):\n",
    "    response = requests.get(url)\n",
    "    soup = BeautifulSoup(response.text, 'html.parser')\n",
    "\n",
    "    presidents_data = []\n",
    "    for president in soup.select('.views-row'):\n",
    "        name = president.select_one('.views-field-title').text.strip()\n",
    "        term_of_office = president.select_one('.views-field-field-term-of-office').text.strip()\n",
    "        presidents_data.append({'Name': name, 'Term of Office': term_of_office})\n",
    "\n",
    "    return presidents_data\n",
    "\n",
    "\n",
    "presidents_url = 'https://presidentofindia.nic.in/former-presidents.htm'\n",
    "\n",
    "presidents_list = get_presidents(presidents_url)\n",
    "\n",
    "df = pd.DataFrame(presidents_list)\n",
    "\n",
    "print(df)\n"
   ]
  },
  {
   "cell_type": "code",
   "execution_count": 13,
   "id": "9643cd9d",
   "metadata": {},
   "outputs": [
    {
     "name": "stdout",
     "output_type": "stream",
     "text": [
      "200 ---> https://www.icc-cricket.com/rankings/mens/team-rankings/odi\n",
      "\n",
      "\n",
      "\u001b[1mICC MENS ODI RANKING\u001b[0m\n"
     ]
    },
    {
     "data": {
      "text/html": [
       "<div>\n",
       "<style scoped>\n",
       "    .dataframe tbody tr th:only-of-type {\n",
       "        vertical-align: middle;\n",
       "    }\n",
       "\n",
       "    .dataframe tbody tr th {\n",
       "        vertical-align: top;\n",
       "    }\n",
       "\n",
       "    .dataframe thead th {\n",
       "        text-align: right;\n",
       "    }\n",
       "</style>\n",
       "<table border=\"1\" class=\"dataframe\">\n",
       "  <thead>\n",
       "    <tr style=\"text-align: right;\">\n",
       "      <th></th>\n",
       "      <th>Country</th>\n",
       "      <th>Matches</th>\n",
       "      <th>Rating</th>\n",
       "      <th>Points</th>\n",
       "    </tr>\n",
       "  </thead>\n",
       "  <tbody>\n",
       "  </tbody>\n",
       "</table>\n",
       "</div>"
      ],
      "text/plain": [
       "Empty DataFrame\n",
       "Columns: [Country, Matches, Rating, Points]\n",
       "Index: []"
      ]
     },
     "execution_count": 13,
     "metadata": {},
     "output_type": "execute_result"
    }
   ],
   "source": [
    "from bs4 import BeautifulSoup\n",
    "import urllib.request\n",
    "import pandas as pd\n",
    "import requests\n",
    "\n",
    "url = 'https://www.icc-cricket.com/rankings/mens/team-rankings/odi'\n",
    "\n",
    "response = requests.get(url)\n",
    "print(response.status_code, '--->',url)\n",
    "print('\\n')\n",
    "soup= BeautifulSoup(response.content, 'lxml')\n",
    "\n",
    "\n",
    "Team=[]\n",
    "Matches=[]\n",
    "Points=[]\n",
    "Rating=[]\n",
    "Country = soup.find_all('span',class_=\"u-hide-phablet\")\n",
    "for i in Country:\n",
    "    Team.append(i.get_text().replace(\"\\n\",\"\"))\n",
    "    Team=Team[0:10]\n",
    "\n",
    "match=soup.find_all('td',class_='rankings-block__banner--matches')\n",
    "matchs=soup.find_all('td',class_='table-body__cell u-center-text')\n",
    "mtc = match + matchs\n",
    "\n",
    "for i in mtc:\n",
    "    Matches.append(i.text)\n",
    "    Matches=Matches[0:10]\n",
    "    \n",
    "pt=soup.find_all('td',class_=\"rankings-block__banner--points\")\n",
    "\n",
    "pts= soup.find_all('td',class_ =\"table-body__cell u-center-text\")\n",
    "Point= pt + pts\n",
    "for i in Point:\n",
    "    Points.append(i.get_text().replace(\"\\n\",\"\"))\n",
    "    Points=Points[0:10]\n",
    "rating = soup.find_all('td',class_=\"table-body__cell u-text-right rating\")\n",
    "for i in rating:\n",
    "    Rating.append(i.get_text().replace(\"\\n\",\"\"))\n",
    "    Rating=Rating[0:10]\n",
    "    \n",
    "ODI=pd.DataFrame({})\n",
    "ODI['Country']=Team\n",
    "ODI['Matches']=Matches\n",
    "ODI['Rating']=Rating\n",
    "ODI['Points']=Points\n",
    "print('\\033[1m'+'ICC MENS ODI RANKING'+'\\033[0m') \n",
    "ODI"
   ]
  },
  {
   "cell_type": "code",
   "execution_count": 14,
   "id": "4b77343d",
   "metadata": {},
   "outputs": [
    {
     "name": "stdout",
     "output_type": "stream",
     "text": [
      "Empty DataFrame\n",
      "Columns: []\n",
      "Index: []\n"
     ]
    }
   ],
   "source": [
    "import requests\n",
    "from bs4 import BeautifulSoup\n",
    "import pandas as pd\n",
    "\n",
    "# Function to get details of top 10 ODI bowlers\n",
    "def get_top_odi_bowlers(url):\n",
    "    response = requests.get(url)\n",
    "    soup = BeautifulSoup(response.text, 'html.parser')\n",
    "\n",
    "    players_data = []\n",
    "    for player in soup.select('.rankings-block__banner, .rankings-block__top-player'):\n",
    "        position = player.select_one('.rankings-block__position').text.strip()\n",
    "        name = player.select_one('.rankings-block__top-player h3').text.strip()\n",
    "        team = player.select_one('.rankings-block__banner--nationality, .rankings-block__top-player span').text.strip()\n",
    "        rating = player.select_one('.rankings-block__banner--rating, .rankings-block__top-player .circle-rating').text.strip()\n",
    "\n",
    "        players_data.append({'Position': position, 'Player': name, 'Team': team, 'Rating': rating})\n",
    "\n",
    "    return players_data\n",
    "\n",
    "# URL of the ICC Men's ODI Bowling Rankings\n",
    "odi_bowlers_url = 'https://www.icc-cricket.com/rankings/mens/player-rankings/odi/bowling'\n",
    "\n",
    "# Get details of top 10 ODI bowlers\n",
    "top_odi_bowlers_list = get_top_odi_bowlers(odi_bowlers_url)\n",
    "\n",
    "# Create a DataFrame\n",
    "df_bowlers = pd.DataFrame(top_odi_bowlers_list)\n",
    "\n",
    "# Display the DataFrame\n",
    "print(df_bowlers)\n"
   ]
  },
  {
   "cell_type": "code",
   "execution_count": 16,
   "id": "bd00387e",
   "metadata": {},
   "outputs": [
    {
     "name": "stdout",
     "output_type": "stream",
     "text": [
      "Empty DataFrame\n",
      "Columns: []\n",
      "Index: []\n"
     ]
    }
   ],
   "source": [
    "\n",
    "\n",
    "def get_top_odi_bowlers(url):\n",
    "    response = requests.get(url)\n",
    "    soup = BeautifulSoup(response.text, 'html.parser')\n",
    "\n",
    "    players_data = []\n",
    "    for player in soup.select('.rankings-block__banner, .rankings-block__top-player'):\n",
    "        position = player.select_one('.rankings-block__position').text.strip()\n",
    "        name = player.select_one('.rankings-block__top-player h3').text.strip()\n",
    "        team = player.select_one('.rankings-block__banner--nationality, .rankings-block__top-player span').text.strip()\n",
    "        rating = player.select_one('.rankings-block__banner--rating, .rankings-block__top-player .circle-rating').text.strip()\n",
    "\n",
    "        players_data.append({'Position': position, 'Player': name, 'Team': team, 'Rating': rating})\n",
    "\n",
    "    return players_data\n",
    "\n",
    "# URL of the ICC Men's ODI Bowling Rankings\n",
    "odi_bowlers_url = 'https://www.icc-cricket.com/rankings/mens/player-rankings/odi/bowling'\n",
    "\n",
    "# Get details of top 10 ODI bowlers\n",
    "top_odi_bowlers_list = get_top_odi_bowlers(odi_bowlers_url)\n",
    "\n",
    "# Create a DataFrame\n",
    "df_bowlers = pd.DataFrame(top_odi_bowlers_list)\n",
    "\n",
    "# Display the DataFrame\n",
    "print(df_bowlers)\n"
   ]
  },
  {
   "cell_type": "code",
   "execution_count": null,
   "id": "1fc6d772",
   "metadata": {},
   "outputs": [],
   "source": []
  }
 ],
 "metadata": {
  "kernelspec": {
   "display_name": "Python 3 (ipykernel)",
   "language": "python",
   "name": "python3"
  },
  "language_info": {
   "codemirror_mode": {
    "name": "ipython",
    "version": 3
   },
   "file_extension": ".py",
   "mimetype": "text/x-python",
   "name": "python",
   "nbconvert_exporter": "python",
   "pygments_lexer": "ipython3",
   "version": "3.10.9"
  }
 },
 "nbformat": 4,
 "nbformat_minor": 5
}
